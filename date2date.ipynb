{
  "nbformat": 4,
  "nbformat_minor": 0,
  "metadata": {
    "colab": {
      "name": "date2date.ipynb",
      "provenance": []
    },
    "kernelspec": {
      "name": "python3",
      "display_name": "Python 3"
    },
    "language_info": {
      "name": "python"
    }
  },
  "cells": [
    {
      "cell_type": "code",
      "execution_count": 1,
      "metadata": {
        "id": "zu2NoSlQvcZG"
      },
      "outputs": [],
      "source": [
        "import numpy as np\n",
        "import matplotlib.pyplot as plot\n",
        "import tensorflow as tf\n",
        "from tensorflow.keras import layers\n",
        "from datetime import date"
      ]
    },
    {
      "cell_type": "code",
      "source": [
        "months = [\"January\",\"February\",\"March\",\"April\",\"May\",\"June\",\"July\",\"August\",\n",
        "          \"September\",\"October\",\"November\",\"December\"]\n",
        "\n",
        "def random_dates(n_dates):\n",
        "\n",
        "  min_date = date(1000,1,1).toordinal()\n",
        "  max_date = date(9999,12,31).toordinal()\n",
        "\n",
        "  rand_dates = np.random.randint(max_date-min_date,size=n_dates) + min_date\n",
        "  dates = [date.fromordinal(x) for x in rand_dates]\n",
        "\n",
        "  X = [months[dt.month-1]+ \" \"+dt.strftime(\"%d, %Y\") for dt in dates]\n",
        "  y = [dt.isoformat() for dt in dates]\n",
        "\n",
        "  return X,y"
      ],
      "metadata": {
        "id": "CnAfFcWywWjK"
      },
      "execution_count": 2,
      "outputs": []
    },
    {
      "cell_type": "code",
      "source": [
        "X_example,y_example = random_dates(3)"
      ],
      "metadata": {
        "id": "O_xYPahGwq_i"
      },
      "execution_count": 3,
      "outputs": []
    },
    {
      "cell_type": "code",
      "source": [
        "X_example"
      ],
      "metadata": {
        "colab": {
          "base_uri": "https://localhost:8080/"
        },
        "id": "wkW0FZAlx4G6",
        "outputId": "b93b2bf5-abcf-4cf6-a7c1-24d5399247f0"
      },
      "execution_count": 4,
      "outputs": [
        {
          "output_type": "execute_result",
          "data": {
            "text/plain": [
              "['May 07, 3010', 'January 08, 4571', 'August 11, 5645']"
            ]
          },
          "metadata": {},
          "execution_count": 4
        }
      ]
    },
    {
      "cell_type": "code",
      "source": [
        "y_example"
      ],
      "metadata": {
        "colab": {
          "base_uri": "https://localhost:8080/"
        },
        "id": "lPPAlij5x5RT",
        "outputId": "e3a4cda0-b05f-44d7-8ef6-044c1382c521"
      },
      "execution_count": 5,
      "outputs": [
        {
          "output_type": "execute_result",
          "data": {
            "text/plain": [
              "['3010-05-07', '4571-01-08', '5645-08-11']"
            ]
          },
          "metadata": {},
          "execution_count": 5
        }
      ]
    },
    {
      "cell_type": "code",
      "source": [
        "input_chars = \"\".join(sorted(set(\"\".join(months) + \"0123456789, \")))"
      ],
      "metadata": {
        "id": "54BxahfJx8Ff"
      },
      "execution_count": 6,
      "outputs": []
    },
    {
      "cell_type": "code",
      "source": [
        "input_chars"
      ],
      "metadata": {
        "colab": {
          "base_uri": "https://localhost:8080/",
          "height": 35
        },
        "id": "Ypnh97A1yjm3",
        "outputId": "5d12a50e-c975-459e-f63b-d0f05a84b117"
      },
      "execution_count": 7,
      "outputs": [
        {
          "output_type": "execute_result",
          "data": {
            "text/plain": [
              "' ,0123456789ADFJMNOSabceghilmnoprstuvy'"
            ],
            "application/vnd.google.colaboratory.intrinsic+json": {
              "type": "string"
            }
          },
          "metadata": {},
          "execution_count": 7
        }
      ]
    },
    {
      "cell_type": "code",
      "source": [
        "output_chars = \"0123456789-\""
      ],
      "metadata": {
        "id": "oqLLV4uSyGe7"
      },
      "execution_count": 8,
      "outputs": []
    },
    {
      "cell_type": "code",
      "source": [
        "def date_strs_to_ids(date_str,chars=input_chars):\n",
        "  return [chars.index(c)+1 for c in date_str]"
      ],
      "metadata": {
        "id": "-MV5FJoezDlx"
      },
      "execution_count": 9,
      "outputs": []
    },
    {
      "cell_type": "code",
      "source": [
        "date_strs_to_ids(X_example[0])"
      ],
      "metadata": {
        "colab": {
          "base_uri": "https://localhost:8080/"
        },
        "id": "7E8Jj-gzzqbc",
        "outputId": "a40772c5-12fc-4d0a-a003-60a8bb24596e"
      },
      "execution_count": 10,
      "outputs": [
        {
          "output_type": "execute_result",
          "data": {
            "text/plain": [
              "[17, 21, 38, 1, 3, 10, 2, 1, 6, 3, 4, 3]"
            ]
          },
          "metadata": {},
          "execution_count": 10
        }
      ]
    },
    {
      "cell_type": "code",
      "source": [
        "def preprocess_strs_to_tensors(dates,chars=input_chars):\n",
        "  X = [date_strs_to_ids(dt,chars=chars) for dt in dates]\n",
        "  X = tf.ragged.constant(X,ragged_rank=1)\n",
        "  return X.to_tensor()"
      ],
      "metadata": {
        "id": "6bQVWT4hzt9X"
      },
      "execution_count": 11,
      "outputs": []
    },
    {
      "cell_type": "code",
      "source": [
        "preprocess_strs_to_tensors(y_example,chars=output_chars)"
      ],
      "metadata": {
        "colab": {
          "base_uri": "https://localhost:8080/"
        },
        "id": "Ctvu9gj41ksW",
        "outputId": "44f108f2-cf4f-4f06-e229-f7217f8b4295"
      },
      "execution_count": 12,
      "outputs": [
        {
          "output_type": "execute_result",
          "data": {
            "text/plain": [
              "<tf.Tensor: shape=(3, 10), dtype=int32, numpy=\n",
              "array([[ 4,  1,  2,  1, 11,  1,  6, 11,  1,  8],\n",
              "       [ 5,  6,  8,  2, 11,  1,  2, 11,  1,  9],\n",
              "       [ 6,  7,  5,  6, 11,  1,  9, 11,  2,  2]], dtype=int32)>"
            ]
          },
          "metadata": {},
          "execution_count": 12
        }
      ]
    },
    {
      "cell_type": "code",
      "source": [
        "preprocess_strs_to_tensors(random_dates(5)[0])"
      ],
      "metadata": {
        "colab": {
          "base_uri": "https://localhost:8080/"
        },
        "id": "KXp_Az-80UNo",
        "outputId": "40fb4c74-b93d-4945-ca4c-c6ad500d08bf"
      },
      "execution_count": 13,
      "outputs": [
        {
          "output_type": "execute_result",
          "data": {
            "text/plain": [
              "<tf.Tensor: shape=(5, 18), dtype=int32, numpy=\n",
              "array([[20, 24, 32, 35, 24, 29, 22, 24, 33,  1,  5,  4,  2,  1,  4,  3,\n",
              "         3, 12],\n",
              "       [16, 21, 30, 36, 21, 33, 38,  1,  3,  7,  2,  1, 12,  9,  5,  6,\n",
              "         0,  0],\n",
              "       [17, 21, 38,  1,  4,  8,  2,  1,  7, 10, 12,  7,  0,  0,  0,  0,\n",
              "         0,  0],\n",
              "       [20, 24, 32, 35, 24, 29, 22, 24, 33,  1,  3,  7,  2,  1, 11,  7,\n",
              "        11,  8],\n",
              "       [13, 36, 25, 36, 34, 35,  1,  5, 12,  2,  1, 10, 11,  6,  9,  0,\n",
              "         0,  0]], dtype=int32)>"
            ]
          },
          "metadata": {},
          "execution_count": 13
        }
      ]
    },
    {
      "cell_type": "code",
      "source": [
        "def create_dataset(n_dates):\n",
        "  X,y = random_dates(n_dates)\n",
        "  X = preprocess_strs_to_tensors(X,chars=input_chars)\n",
        "  y = preprocess_strs_to_tensors(y,chars=output_chars)\n",
        "  return X,y"
      ],
      "metadata": {
        "id": "TjXNwErb0zVM"
      },
      "execution_count": 14,
      "outputs": []
    },
    {
      "cell_type": "code",
      "source": [
        "X_train,y_train = create_dataset(10000)\n",
        "X_val,y_val = create_dataset(2000)\n",
        "X_test,y_test = create_dataset(2000)"
      ],
      "metadata": {
        "id": "9clsKIAr1xDL"
      },
      "execution_count": 15,
      "outputs": []
    },
    {
      "cell_type": "code",
      "source": [
        "X_train"
      ],
      "metadata": {
        "colab": {
          "base_uri": "https://localhost:8080/"
        },
        "id": "TUi9hHrh17m_",
        "outputId": "e629d68a-a52a-4ceb-f3a2-9b91240a7f92"
      },
      "execution_count": 16,
      "outputs": [
        {
          "output_type": "execute_result",
          "data": {
            "text/plain": [
              "<tf.Tensor: shape=(10000, 18), dtype=int32, numpy=\n",
              "array([[16, 21, 30, ..., 10,  0,  0],\n",
              "       [16, 21, 30, ...,  9,  0,  0],\n",
              "       [19, 23, 35, ...,  7,  0,  0],\n",
              "       ...,\n",
              "       [15, 24, 22, ..., 12, 11,  0],\n",
              "       [16, 36, 28, ...,  0,  0,  0],\n",
              "       [16, 21, 30, ...,  4,  0,  0]], dtype=int32)>"
            ]
          },
          "metadata": {},
          "execution_count": 16
        }
      ]
    },
    {
      "cell_type": "code",
      "source": [
        "embedding_dim = 32\n",
        "max_output_length = y_train.shape[1]\n",
        "\n",
        "np.random.seed(12)\n",
        "tf.random.set_seed(12)\n",
        "\n",
        "encoder = tf.keras.models.Sequential([\n",
        "    layers.Embedding(input_dim=len(input_chars)+1,\n",
        "                     output_dim=embedding_dim,\n",
        "                     input_shape=[None]),\n",
        "    layers.LSTM(units=128)\n",
        "],name=\"encoder\")\n",
        "\n",
        "decoder = tf.keras.models.Sequential([\n",
        "    layers.LSTM(128,return_sequences=True),\n",
        "    layers.Dense(len(output_chars)+1,activation=\"softmax\")\n",
        "],name=\"decoder\")\n",
        "\n",
        "model = tf.keras.models.Sequential([\n",
        "    encoder,\n",
        "    layers.RepeatVector(max_output_length),\n",
        "    decoder\n",
        "],name=\"date2date_1\")\n",
        "\n",
        "model.compile(loss=\"sparse_categorical_crossentropy\",\n",
        "              optimizer=tf.keras.optimizers.Adam(),\n",
        "              metrics=\"accuracy\")\n",
        "\n",
        "model.summary()"
      ],
      "metadata": {
        "colab": {
          "base_uri": "https://localhost:8080/"
        },
        "id": "BhbZgfQ91-pf",
        "outputId": "a2e45b16-48c8-4a25-ad16-9f89272cefa2"
      },
      "execution_count": 17,
      "outputs": [
        {
          "output_type": "stream",
          "name": "stdout",
          "text": [
            "Model: \"date2date_1\"\n",
            "_________________________________________________________________\n",
            " Layer (type)                Output Shape              Param #   \n",
            "=================================================================\n",
            " encoder (Sequential)        (None, 128)               83680     \n",
            "                                                                 \n",
            " repeat_vector (RepeatVector  (None, 10, 128)          0         \n",
            " )                                                               \n",
            "                                                                 \n",
            " decoder (Sequential)        (None, 10, 12)            133132    \n",
            "                                                                 \n",
            "=================================================================\n",
            "Total params: 216,812\n",
            "Trainable params: 216,812\n",
            "Non-trainable params: 0\n",
            "_________________________________________________________________\n"
          ]
        }
      ]
    },
    {
      "cell_type": "code",
      "source": [
        "encoder.summary()"
      ],
      "metadata": {
        "colab": {
          "base_uri": "https://localhost:8080/"
        },
        "id": "oCSVy7K_3a0l",
        "outputId": "c59defb2-649e-406f-b6af-d0dd47197725"
      },
      "execution_count": 18,
      "outputs": [
        {
          "output_type": "stream",
          "name": "stdout",
          "text": [
            "Model: \"encoder\"\n",
            "_________________________________________________________________\n",
            " Layer (type)                Output Shape              Param #   \n",
            "=================================================================\n",
            " embedding (Embedding)       (None, None, 32)          1248      \n",
            "                                                                 \n",
            " lstm (LSTM)                 (None, 128)               82432     \n",
            "                                                                 \n",
            "=================================================================\n",
            "Total params: 83,680\n",
            "Trainable params: 83,680\n",
            "Non-trainable params: 0\n",
            "_________________________________________________________________\n"
          ]
        }
      ]
    },
    {
      "cell_type": "code",
      "source": [
        "decoder.summary()"
      ],
      "metadata": {
        "colab": {
          "base_uri": "https://localhost:8080/"
        },
        "id": "Hqu_JS774baH",
        "outputId": "fbf23b10-1d1d-4f19-9169-79b449055271"
      },
      "execution_count": 19,
      "outputs": [
        {
          "output_type": "stream",
          "name": "stdout",
          "text": [
            "Model: \"decoder\"\n",
            "_________________________________________________________________\n",
            " Layer (type)                Output Shape              Param #   \n",
            "=================================================================\n",
            " lstm_1 (LSTM)               (None, 10, 128)           131584    \n",
            "                                                                 \n",
            " dense (Dense)               (None, 10, 12)            1548      \n",
            "                                                                 \n",
            "=================================================================\n",
            "Total params: 133,132\n",
            "Trainable params: 133,132\n",
            "Non-trainable params: 0\n",
            "_________________________________________________________________\n"
          ]
        }
      ]
    },
    {
      "cell_type": "code",
      "source": [
        "history_1 = model.fit(X_train,y_train,\n",
        "                      epochs=20,\n",
        "                      validation_data=(X_val,y_val))"
      ],
      "metadata": {
        "colab": {
          "base_uri": "https://localhost:8080/"
        },
        "id": "08KifILX4eHk",
        "outputId": "c94d3566-968d-4af3-bd74-44e2cf0327df"
      },
      "execution_count": 20,
      "outputs": [
        {
          "output_type": "stream",
          "name": "stdout",
          "text": [
            "Epoch 1/20\n",
            "313/313 [==============================] - 24s 46ms/step - loss: 1.7511 - accuracy: 0.3667 - val_loss: 1.3406 - val_accuracy: 0.5035\n",
            "Epoch 2/20\n",
            "313/313 [==============================] - 12s 40ms/step - loss: 1.1529 - accuracy: 0.5831 - val_loss: 0.9809 - val_accuracy: 0.6456\n",
            "Epoch 3/20\n",
            "313/313 [==============================] - 12s 40ms/step - loss: 0.8642 - accuracy: 0.6847 - val_loss: 0.7414 - val_accuracy: 0.7207\n",
            "Epoch 4/20\n",
            "313/313 [==============================] - 12s 40ms/step - loss: 0.6290 - accuracy: 0.7545 - val_loss: 0.5240 - val_accuracy: 0.7937\n",
            "Epoch 5/20\n",
            "313/313 [==============================] - 13s 40ms/step - loss: 0.4594 - accuracy: 0.8234 - val_loss: 0.4388 - val_accuracy: 0.8333\n",
            "Epoch 6/20\n",
            "313/313 [==============================] - 14s 43ms/step - loss: 0.3051 - accuracy: 0.8855 - val_loss: 0.2480 - val_accuracy: 0.9097\n",
            "Epoch 7/20\n",
            "313/313 [==============================] - 13s 40ms/step - loss: 0.1932 - accuracy: 0.9395 - val_loss: 0.1557 - val_accuracy: 0.9560\n",
            "Epoch 8/20\n",
            "313/313 [==============================] - 13s 41ms/step - loss: 0.1275 - accuracy: 0.9686 - val_loss: 0.1658 - val_accuracy: 0.9521\n",
            "Epoch 9/20\n",
            "313/313 [==============================] - 13s 40ms/step - loss: 0.0884 - accuracy: 0.9802 - val_loss: 0.0621 - val_accuracy: 0.9883\n",
            "Epoch 10/20\n",
            "313/313 [==============================] - 13s 41ms/step - loss: 0.0446 - accuracy: 0.9932 - val_loss: 0.0408 - val_accuracy: 0.9940\n",
            "Epoch 11/20\n",
            "313/313 [==============================] - 13s 40ms/step - loss: 0.0281 - accuracy: 0.9971 - val_loss: 0.0252 - val_accuracy: 0.9973\n",
            "Epoch 12/20\n",
            "313/313 [==============================] - 14s 44ms/step - loss: 0.0177 - accuracy: 0.9988 - val_loss: 0.0169 - val_accuracy: 0.9980\n",
            "Epoch 13/20\n",
            "313/313 [==============================] - 12s 40ms/step - loss: 0.0114 - accuracy: 0.9995 - val_loss: 0.0111 - val_accuracy: 0.9991\n",
            "Epoch 14/20\n",
            "313/313 [==============================] - 13s 40ms/step - loss: 0.0077 - accuracy: 0.9998 - val_loss: 0.0079 - val_accuracy: 0.9995\n",
            "Epoch 15/20\n",
            "313/313 [==============================] - 13s 40ms/step - loss: 0.1157 - accuracy: 0.9691 - val_loss: 0.0614 - val_accuracy: 0.9891\n",
            "Epoch 16/20\n",
            "313/313 [==============================] - 13s 41ms/step - loss: 0.0203 - accuracy: 0.9987 - val_loss: 0.0127 - val_accuracy: 0.9995\n",
            "Epoch 17/20\n",
            "313/313 [==============================] - 13s 40ms/step - loss: 0.0082 - accuracy: 0.9998 - val_loss: 0.0079 - val_accuracy: 0.9998\n",
            "Epoch 18/20\n",
            "313/313 [==============================] - 14s 43ms/step - loss: 0.0054 - accuracy: 0.9999 - val_loss: 0.0057 - val_accuracy: 0.9998\n",
            "Epoch 19/20\n",
            "313/313 [==============================] - 13s 40ms/step - loss: 0.0039 - accuracy: 1.0000 - val_loss: 0.0044 - val_accuracy: 0.9999\n",
            "Epoch 20/20\n",
            "313/313 [==============================] - 13s 40ms/step - loss: 0.0030 - accuracy: 1.0000 - val_loss: 0.0035 - val_accuracy: 0.9999\n"
          ]
        }
      ]
    },
    {
      "cell_type": "code",
      "source": [
        "model.evaluate(X_test,y_test)"
      ],
      "metadata": {
        "colab": {
          "base_uri": "https://localhost:8080/"
        },
        "id": "FZ4e6ZJj4v3k",
        "outputId": "65fdd157-7afa-433a-b7ab-fa45cb07ae08"
      },
      "execution_count": 21,
      "outputs": [
        {
          "output_type": "stream",
          "name": "stdout",
          "text": [
            "63/63 [==============================] - 1s 13ms/step - loss: 0.0037 - accuracy: 0.9998\n"
          ]
        },
        {
          "output_type": "execute_result",
          "data": {
            "text/plain": [
              "[0.0036633601412177086, 0.9998499751091003]"
            ]
          },
          "metadata": {},
          "execution_count": 21
        }
      ]
    },
    {
      "cell_type": "code",
      "source": [
        "new_dates = [\"September 15, 1972\",\"July 15, 1979\"]\n",
        "new_dates = preprocess_strs_to_tensors(new_dates)\n",
        "pred_dates = model.predict(new_dates)"
      ],
      "metadata": {
        "id": "3mBSUzKo6oMA"
      },
      "execution_count": 22,
      "outputs": []
    },
    {
      "cell_type": "code",
      "source": [
        "pred = np.argmax(pred_dates,axis=-1)"
      ],
      "metadata": {
        "id": "WeKuHvUz7JO-"
      },
      "execution_count": 23,
      "outputs": []
    },
    {
      "cell_type": "code",
      "source": [
        "pred"
      ],
      "metadata": {
        "colab": {
          "base_uri": "https://localhost:8080/"
        },
        "id": "P1WBLFxT7OzS",
        "outputId": "b266d9ee-b48a-4776-a94a-2aed6d595586"
      },
      "execution_count": 24,
      "outputs": [
        {
          "output_type": "execute_result",
          "data": {
            "text/plain": [
              "array([[ 2, 10,  8,  3, 11,  1, 10, 11,  2,  6],\n",
              "       [ 2, 10,  8, 10, 11,  1,  8, 11,  2,  6]])"
            ]
          },
          "metadata": {},
          "execution_count": 24
        }
      ]
    },
    {
      "cell_type": "code",
      "source": [
        "\"\".join([output_chars[id-1] for id in pred[0]])"
      ],
      "metadata": {
        "colab": {
          "base_uri": "https://localhost:8080/",
          "height": 35
        },
        "id": "J3DFoC3-7vzk",
        "outputId": "65f6abca-774d-4c16-f87a-4a7e6d65a1c2"
      },
      "execution_count": 25,
      "outputs": [
        {
          "output_type": "execute_result",
          "data": {
            "text/plain": [
              "'1972-09-15'"
            ],
            "application/vnd.google.colaboratory.intrinsic+json": {
              "type": "string"
            }
          },
          "metadata": {},
          "execution_count": 25
        }
      ]
    },
    {
      "cell_type": "code",
      "source": [
        "\"\".join([output_chars[id-1] for id in pred[1]])"
      ],
      "metadata": {
        "colab": {
          "base_uri": "https://localhost:8080/",
          "height": 35
        },
        "id": "NV5iID8W72Uy",
        "outputId": "84ad4dd0-7303-4f07-f842-8db589f8d7a6"
      },
      "execution_count": 26,
      "outputs": [
        {
          "output_type": "execute_result",
          "data": {
            "text/plain": [
              "'1979-07-15'"
            ],
            "application/vnd.google.colaboratory.intrinsic+json": {
              "type": "string"
            }
          },
          "metadata": {},
          "execution_count": 26
        }
      ]
    },
    {
      "cell_type": "code",
      "source": [
        "def ids_to_dates(preds,chars=output_chars):\n",
        "  preds = np.argmax(preds,axis=-1)\n",
        "  for pred in preds:\n",
        "    print(\"\".join([output_chars[id-1] for id in pred]))"
      ],
      "metadata": {
        "id": "xVeN3I-D8Nkw"
      },
      "execution_count": 27,
      "outputs": []
    },
    {
      "cell_type": "code",
      "source": [
        "ids_to_dates(pred_dates)"
      ],
      "metadata": {
        "colab": {
          "base_uri": "https://localhost:8080/"
        },
        "id": "1EO_eB609MvY",
        "outputId": "b633bae4-319e-45e1-c389-5cf7e2869e23"
      },
      "execution_count": 28,
      "outputs": [
        {
          "output_type": "stream",
          "name": "stdout",
          "text": [
            "1972-09-15\n",
            "1979-07-15\n"
          ]
        }
      ]
    },
    {
      "cell_type": "code",
      "source": [
        "new_dates = [\"November 12, 2002\",\"May 05, 2003\"]\n",
        "new_dates = preprocess_strs_to_tensors(new_dates)\n",
        "pred_dates = model.predict(new_dates)"
      ],
      "metadata": {
        "id": "d0aBmL2m9PAG"
      },
      "execution_count": 29,
      "outputs": []
    },
    {
      "cell_type": "code",
      "source": [
        "ids_to_dates(pred_dates)"
      ],
      "metadata": {
        "colab": {
          "base_uri": "https://localhost:8080/"
        },
        "id": "1jUjd-lB9l95",
        "outputId": "c7190c92-ba33-4571-b3f9-ea8beaf769d3"
      },
      "execution_count": 30,
      "outputs": [
        {
          "output_type": "stream",
          "name": "stdout",
          "text": [
            "2002-12-12\n",
            "2003-05-05\n"
          ]
        }
      ]
    }
  ]
}