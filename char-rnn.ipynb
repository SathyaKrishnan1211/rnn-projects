{
  "cells": [
    {
      "cell_type": "code",
      "execution_count": 1,
      "metadata": {
        "id": "7eHd2-rIb3Zm"
      },
      "outputs": [],
      "source": [
        "import numpy as np\n",
        "import tensorflow as tf\n",
        "from tensorflow.keras import layers\n",
        "from tensorflow import keras"
      ]
    },
    {
      "cell_type": "code",
      "execution_count": 2,
      "metadata": {
        "colab": {
          "base_uri": "https://localhost:8080/",
          "height": 87
        },
        "id": "HSL2vwXBftHs",
        "outputId": "d91d509d-0c55-4573-b5de-d9c813085abe"
      },
      "outputs": [
        {
          "output_type": "stream",
          "name": "stdout",
          "text": [
            "Downloading data from https://homl.info/shakespeare\n",
            "1122304/1115394 [==============================] - 0s 0us/step\n",
            "1130496/1115394 [==============================] - 0s 0us/step\n"
          ]
        },
        {
          "output_type": "execute_result",
          "data": {
            "text/plain": [
              "'/root/.keras/datasets/shakespeare.txt'"
            ],
            "application/vnd.google.colaboratory.intrinsic+json": {
              "type": "string"
            }
          },
          "metadata": {},
          "execution_count": 2
        }
      ],
      "source": [
        "shakespeare_url = \"https://homl.info/shakespeare\"\n",
        "filepath = keras.utils.get_file(\"shakespeare.txt\",shakespeare_url)\n",
        "filepath"
      ]
    },
    {
      "cell_type": "code",
      "execution_count": 3,
      "metadata": {
        "id": "jcoicV6Ff9cL"
      },
      "outputs": [],
      "source": [
        "with open(filepath) as f:\n",
        "  shakespeare_text = f.read()"
      ]
    },
    {
      "cell_type": "code",
      "execution_count": 4,
      "metadata": {
        "colab": {
          "base_uri": "https://localhost:8080/",
          "height": 35
        },
        "id": "aOEV9f5SgFXv",
        "outputId": "4e8d96a4-33d1-4ece-91f7-391c8a95fe5f"
      },
      "outputs": [
        {
          "output_type": "execute_result",
          "data": {
            "text/plain": [
              "'First Citizen:\\nBefore we proceed any further, hear me speak.\\n\\nAll:\\nSpeak, speak.\\n\\nFirst Citizen:\\nYou'"
            ],
            "application/vnd.google.colaboratory.intrinsic+json": {
              "type": "string"
            }
          },
          "metadata": {},
          "execution_count": 4
        }
      ],
      "source": [
        "shakespeare_text[:100]"
      ]
    },
    {
      "cell_type": "code",
      "execution_count": 5,
      "metadata": {
        "colab": {
          "base_uri": "https://localhost:8080/"
        },
        "id": "E3KkhsMhAAxY",
        "outputId": "d069fd2c-4e48-4970-e363-8d9753120698"
      },
      "outputs": [
        {
          "output_type": "execute_result",
          "data": {
            "text/plain": [
              "str"
            ]
          },
          "metadata": {},
          "execution_count": 5
        }
      ],
      "source": [
        "type(shakespeare_text)"
      ]
    },
    {
      "cell_type": "code",
      "execution_count": 6,
      "metadata": {
        "id": "qBJiWSApADGL"
      },
      "outputs": [],
      "source": [
        "tokenizer = keras.preprocessing.text.Tokenizer(char_level=True)\n",
        "tokenizer.fit_on_texts([shakespeare_text])"
      ]
    },
    {
      "cell_type": "code",
      "execution_count": 7,
      "metadata": {
        "colab": {
          "base_uri": "https://localhost:8080/"
        },
        "id": "WEPfgwVuAN2h",
        "outputId": "d17d3f2c-e3db-4d2f-b4e6-eb50e2ad9dc0"
      },
      "outputs": [
        {
          "output_type": "execute_result",
          "data": {
            "text/plain": [
              "[[20, 6, 9, 8, 3]]"
            ]
          },
          "metadata": {},
          "execution_count": 7
        }
      ],
      "source": [
        "tokenizer.texts_to_sequences([\"first\"])"
      ]
    },
    {
      "cell_type": "code",
      "execution_count": 8,
      "metadata": {
        "colab": {
          "base_uri": "https://localhost:8080/"
        },
        "id": "h0ccdyBkAXfI",
        "outputId": "249de539-5821-4fab-9c77-0cb5fa0fd2df"
      },
      "outputs": [
        {
          "output_type": "execute_result",
          "data": {
            "text/plain": [
              "['f i r s t']"
            ]
          },
          "metadata": {},
          "execution_count": 8
        }
      ],
      "source": [
        "tokenizer.sequences_to_texts([[20,6,9,8,3]])"
      ]
    },
    {
      "cell_type": "code",
      "execution_count": 9,
      "metadata": {
        "id": "e2XSGABvAcpk"
      },
      "outputs": [],
      "source": [
        "no_tokens = len(tokenizer.word_index)"
      ]
    },
    {
      "cell_type": "code",
      "execution_count": 10,
      "metadata": {
        "id": "7USC65B9AhVw"
      },
      "outputs": [],
      "source": [
        "[encoded] = np.array(tokenizer.texts_to_sequences([shakespeare_text]))-1"
      ]
    },
    {
      "cell_type": "code",
      "execution_count": 11,
      "metadata": {
        "id": "akxn5WWvAzyR"
      },
      "outputs": [],
      "source": [
        "ds_size = len(encoded)\n",
        "train_size = ds_size*90//100"
      ]
    },
    {
      "cell_type": "code",
      "execution_count": 12,
      "metadata": {
        "colab": {
          "base_uri": "https://localhost:8080/"
        },
        "id": "-RmYZYFxBJlI",
        "outputId": "91f0ad5f-0cfe-491e-c4a4-1b47e987aeb0"
      },
      "outputs": [
        {
          "output_type": "execute_result",
          "data": {
            "text/plain": [
              "1003854"
            ]
          },
          "metadata": {},
          "execution_count": 12
        }
      ],
      "source": [
        "train_size"
      ]
    },
    {
      "cell_type": "code",
      "execution_count": 13,
      "metadata": {
        "colab": {
          "base_uri": "https://localhost:8080/"
        },
        "id": "BlWxCJTLBKbo",
        "outputId": "312bf8b0-a860-4b21-ab81-2198af350fc0"
      },
      "outputs": [
        {
          "output_type": "execute_result",
          "data": {
            "text/plain": [
              "1003854"
            ]
          },
          "metadata": {},
          "execution_count": 13
        }
      ],
      "source": [
        "len(tf.data.Dataset.from_tensor_slices(encoded[:train_size]))"
      ]
    },
    {
      "cell_type": "code",
      "execution_count": 14,
      "metadata": {
        "id": "eUxmh8QvBWPg"
      },
      "outputs": [],
      "source": [
        "ds = tf.data.Dataset.from_tensor_slices(encoded[:train_size])"
      ]
    },
    {
      "cell_type": "code",
      "execution_count": 15,
      "metadata": {
        "id": "qTA5gLgpGkZ7"
      },
      "outputs": [],
      "source": [
        "window_size = 101\n",
        "ds = ds.window(window_size,shift=1,drop_remainder=True)"
      ]
    },
    {
      "cell_type": "code",
      "execution_count": 16,
      "metadata": {
        "id": "kKRMMzU_GwX6"
      },
      "outputs": [],
      "source": [
        "batch_size = 32\n",
        "ds = ds.flat_map(lambda window:window.batch(window_size))"
      ]
    },
    {
      "cell_type": "code",
      "execution_count": 17,
      "metadata": {
        "id": "vgdBcJRwHNUF"
      },
      "outputs": [],
      "source": [
        "ds = ds.shuffle(10000).batch(batch_size)"
      ]
    },
    {
      "cell_type": "code",
      "execution_count": 18,
      "metadata": {
        "id": "FL8mDhbNL_0U"
      },
      "outputs": [],
      "source": [
        "ds = ds.map(lambda windows:(windows[:,:-1],windows[:,1:]))"
      ]
    },
    {
      "cell_type": "code",
      "execution_count": 19,
      "metadata": {
        "id": "4o6LRDI4Mg-k"
      },
      "outputs": [],
      "source": [
        "ds = ds.map(lambda X_batch,y_batch:(tf.one_hot(X_batch,depth=no_tokens),y_batch))"
      ]
    },
    {
      "cell_type": "code",
      "execution_count": 20,
      "metadata": {
        "colab": {
          "base_uri": "https://localhost:8080/"
        },
        "id": "suoYY49DM45f",
        "outputId": "73aabdf1-03a6-4853-ad9f-f1662956d41a"
      },
      "outputs": [
        {
          "output_type": "stream",
          "name": "stdout",
          "text": [
            "tf.Tensor([ 32 100  39], shape=(3,), dtype=int32) tf.Tensor([ 32 100], shape=(2,), dtype=int32)\n"
          ]
        }
      ],
      "source": [
        "for X,y in ds.take(1):\n",
        "  print(tf.shape(X),tf.shape(y))"
      ]
    },
    {
      "cell_type": "code",
      "execution_count": 21,
      "metadata": {
        "id": "pD8NS-0QNAz_"
      },
      "outputs": [],
      "source": [
        "ds = ds.prefetch(1)"
      ]
    },
    {
      "cell_type": "code",
      "execution_count": 93,
      "metadata": {
        "id": "4AmmX6WYNzz3"
      },
      "outputs": [],
      "source": [
        "model = tf.keras.models.Sequential([\n",
        "    layers.LSTM(units=128,return_sequences=True,input_shape=[None,39]),\n",
        "    layers.LSTM(units=128,return_sequences=True),\n",
        "    layers.LSTM(units=64,return_sequences=True),\n",
        "    layers.TimeDistributed(layers.Dense(units=no_tokens,activation=\"softmax\"))\n",
        "],name=\"char_rnn\")"
      ]
    },
    {
      "cell_type": "code",
      "execution_count": 94,
      "metadata": {
        "colab": {
          "base_uri": "https://localhost:8080/"
        },
        "id": "2VgVDQohORkT",
        "outputId": "be65cc86-b5bd-442c-b7c3-fa31117a4fe8"
      },
      "outputs": [
        {
          "output_type": "stream",
          "name": "stdout",
          "text": [
            "Epoch 1/2\n",
            "31368/31368 [==============================] - 626s 19ms/step - loss: 1.0967\n",
            "Epoch 2/2\n",
            "31368/31368 [==============================] - 610s 19ms/step - loss: 0.7673\n"
          ]
        }
      ],
      "source": [
        "model.compile(loss=\"sparse_categorical_crossentropy\",\n",
        "              optimizer=\"adam\")\n",
        "\n",
        "history = model.fit(ds,epochs=2)"
      ]
    },
    {
      "cell_type": "code",
      "execution_count": 95,
      "metadata": {
        "id": "R1_jEG-BObTx"
      },
      "outputs": [],
      "source": [
        "def preprocess(text):\n",
        "    X_new = np.array(tokenizer.texts_to_sequences(text))-1\n",
        "    return tf.one_hot(X_new,depth=no_tokens)"
      ]
    },
    {
      "cell_type": "code",
      "execution_count": 96,
      "metadata": {
        "id": "keDrxMDvBntC"
      },
      "outputs": [],
      "source": [
        "X_new = preprocess([\"How are yo\"])"
      ]
    },
    {
      "cell_type": "code",
      "execution_count": 97,
      "metadata": {
        "colab": {
          "base_uri": "https://localhost:8080/"
        },
        "id": "lBSArte6BntC",
        "outputId": "bcd4a02d-1cfc-4c18-bce4-6f9245015987"
      },
      "outputs": [
        {
          "output_type": "execute_result",
          "data": {
            "text/plain": [
              "TensorShape([1, 10, 39])"
            ]
          },
          "metadata": {},
          "execution_count": 97
        }
      ],
      "source": [
        "X_new.shape"
      ]
    },
    {
      "cell_type": "code",
      "execution_count": 98,
      "metadata": {
        "id": "PSMJSRpLBntD"
      },
      "outputs": [],
      "source": [
        "y_pred = model(X_new)"
      ]
    },
    {
      "cell_type": "code",
      "execution_count": 99,
      "metadata": {
        "colab": {
          "base_uri": "https://localhost:8080/"
        },
        "id": "eLkbDN3HBntD",
        "outputId": "463711d7-bdea-459c-bbe9-8b629649463c"
      },
      "outputs": [
        {
          "output_type": "execute_result",
          "data": {
            "text/plain": [
              "TensorShape([1, 10, 39])"
            ]
          },
          "metadata": {},
          "execution_count": 99
        }
      ],
      "source": [
        "y_pred.shape"
      ]
    },
    {
      "cell_type": "code",
      "execution_count": 100,
      "metadata": {
        "colab": {
          "base_uri": "https://localhost:8080/"
        },
        "id": "F0AUIwgVBntD",
        "outputId": "b426865b-06d2-45eb-8553-c9fc8b2ba087"
      },
      "outputs": [
        {
          "output_type": "execute_result",
          "data": {
            "text/plain": [
              "array([[ 2, 14,  1,  3, 12,  3,  1, 22,  4, 14]])"
            ]
          },
          "metadata": {},
          "execution_count": 100
        }
      ],
      "source": [
        "temp_pred = np.argmax(y_pred,axis=-1)+1\n",
        "temp_pred"
      ]
    },
    {
      "cell_type": "code",
      "execution_count": 101,
      "metadata": {
        "colab": {
          "base_uri": "https://localhost:8080/",
          "height": 35
        },
        "id": "WRcCg20JBntD",
        "outputId": "9c753976-0513-41ca-9a8a-72ac621c985b"
      },
      "outputs": [
        {
          "output_type": "execute_result",
          "data": {
            "text/plain": [
              "'u'"
            ],
            "application/vnd.google.colaboratory.intrinsic+json": {
              "type": "string"
            }
          },
          "metadata": {},
          "execution_count": 101
        }
      ],
      "source": [
        "tokenizer.sequences_to_texts(temp_pred)[0][-1]"
      ]
    },
    {
      "cell_type": "code",
      "execution_count": 102,
      "metadata": {
        "id": "sD5jq5mLBntE"
      },
      "outputs": [],
      "source": [
        "def next_char(text,temperature=1):\n",
        "    X_new = preprocess(text=text)\n",
        "    y_proba = model(X_new)[0,-1:,:]\n",
        "    rescaled_logits = tf.math.log(y_proba)/temperature\n",
        "    char_id = tf.random.categorical(rescaled_logits,num_samples=1)+1\n",
        "    return tokenizer.sequences_to_texts(char_id.numpy())[0]"
      ]
    },
    {
      "cell_type": "code",
      "execution_count": 103,
      "metadata": {
        "id": "3G3inSa8BntE"
      },
      "outputs": [],
      "source": [
        "def complete_text(text,n_chars=50,temperature=1):\n",
        "    for _ in range(n_chars):\n",
        "        text += next_char(text,temperature=temperature)\n",
        "    return text"
      ]
    },
    {
      "cell_type": "code",
      "execution_count": 110,
      "metadata": {
        "colab": {
          "base_uri": "https://localhost:8080/"
        },
        "id": "rMn-96rUBntE",
        "outputId": "0842ad8b-fb70-443e-ebf7-c4cec3cf5e1f"
      },
      "outputs": [
        {
          "output_type": "stream",
          "name": "stdout",
          "text": [
            "itooorn grnt,s o'n,'lsonooo rds onotfs,ro rltrnns n\n"
          ]
        }
      ],
      "source": [
        "print(complete_text(\"i\",temperature=1))"
      ]
    },
    {
      "cell_type": "code",
      "execution_count": null,
      "metadata": {
        "id": "RYQx6VbnBntF"
      },
      "outputs": [],
      "source": [
        "model.save(\"char_rnn.h5\")"
      ]
    },
    {
      "cell_type": "code",
      "execution_count": null,
      "metadata": {
        "id": "p878C2hDBntF"
      },
      "outputs": [],
      "source": [
        ""
      ]
    }
  ],
  "metadata": {
    "accelerator": "GPU",
    "colab": {
      "collapsed_sections": [],
      "name": "rnn.ipynb",
      "provenance": []
    },
    "gpuClass": "standard",
    "kernelspec": {
      "display_name": "Python 3.9.12 ('tf')",
      "language": "python",
      "name": "python3"
    },
    "language_info": {
      "codemirror_mode": {
        "name": "ipython",
        "version": 3
      },
      "file_extension": ".py",
      "mimetype": "text/x-python",
      "name": "python",
      "nbconvert_exporter": "python",
      "pygments_lexer": "ipython3",
      "version": "3.9.12"
    },
    "vscode": {
      "interpreter": {
        "hash": "52743b0137570ebd28dcb0e6157a2cf8de8d8e7635dc5292ac8dc7433a44ebb7"
      }
    }
  },
  "nbformat": 4,
  "nbformat_minor": 0
}
