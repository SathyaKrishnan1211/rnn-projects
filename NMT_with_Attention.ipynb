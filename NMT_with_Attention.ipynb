{
  "nbformat": 4,
  "nbformat_minor": 0,
  "metadata": {
    "colab": {
      "name": "NMT with Attention.ipynb",
      "provenance": [],
      "collapsed_sections": []
    },
    "kernelspec": {
      "name": "python3",
      "display_name": "Python 3"
    },
    "language_info": {
      "name": "python"
    },
    "accelerator": "GPU",
    "gpuClass": "standard"
  },
  "cells": [
    {
      "cell_type": "code",
      "source": [
        "!pip install tensorflow-text==2.8.1"
      ],
      "metadata": {
        "id": "Dw7BTonDrVDS"
      },
      "execution_count": null,
      "outputs": []
    },
    {
      "cell_type": "code",
      "execution_count": 2,
      "metadata": {
        "id": "zntGsgAPqg2g"
      },
      "outputs": [],
      "source": [
        "import numpy as np\n",
        "import tensorflow as tf\n",
        "import tensorflow_text as tf_text\n",
        "import typing\n",
        "from typing import Any,Tuple\n",
        "import matplotlib.pyplot as plt\n",
        "import matplotlib.ticker as ticker"
      ]
    },
    {
      "cell_type": "code",
      "source": [
        "use_builtins = True"
      ],
      "metadata": {
        "id": "ISQvzaEnrK44"
      },
      "execution_count": 3,
      "outputs": []
    },
    {
      "cell_type": "code",
      "source": [
        "class ShapeChecker():\n",
        "\n",
        "  def __init__(self):\n",
        "    self.shapes = {}\n",
        "  \n",
        "  def __call__(self,tensor,names,broadcast=True):\n",
        "\n",
        "    if not tf.executing_eagerly():\n",
        "      return\n",
        "\n",
        "    if isinstance(names,str):\n",
        "      names = (names,)\n",
        "    \n",
        "    shape = tf.shape(tensor)\n",
        "    rank = tf.rank(tensor)\n",
        "\n",
        "    if rank != len(names):\n",
        "      raise ValueError(\"Rank and length of names mismatch\")\n",
        "    \n",
        "    for i,name in enumerate(names):\n",
        "\n",
        "      if isinstance(name,int):\n",
        "        old_dim = name\n",
        "      else:\n",
        "        old_dim = self.shapes.get(name,None)\n",
        "      \n",
        "      new_dim = shape[i]\n",
        "\n",
        "      if broadcast and new_dim==1:\n",
        "        continue\n",
        "      \n",
        "      if old_dim is None:\n",
        "        self.shapes[name] = new_dim\n",
        "        continue\n",
        "      \n",
        "      if old_dim != new_dim:\n",
        "        raise ValueError(\"\\nDimension mismatch\")"
      ],
      "metadata": {
        "id": "QZeiN89yrQPL"
      },
      "execution_count": 4,
      "outputs": []
    },
    {
      "cell_type": "code",
      "source": [
        "import pathlib\n",
        "\n",
        "path_to_zip = tf.keras.utils.get_file(\"spa-eng.zip\",\n",
        "                                      origin=\"http://storage.googleapis.com/download.tensorflow.org/data/spa-eng.zip\",\n",
        "                                      extract=True)\n",
        "path = pathlib.Path(path_to_zip).parent/\"spa-eng/spa.txt\""
      ],
      "metadata": {
        "id": "EsShk44Fv3D9",
        "colab": {
          "base_uri": "https://localhost:8080/"
        },
        "outputId": "15ffc164-8422-4741-c9bb-15562d85a0b0"
      },
      "execution_count": 5,
      "outputs": [
        {
          "output_type": "stream",
          "name": "stdout",
          "text": [
            "Downloading data from http://storage.googleapis.com/download.tensorflow.org/data/spa-eng.zip\n",
            "2646016/2638744 [==============================] - 0s 0us/step\n",
            "2654208/2638744 [==============================] - 0s 0us/step\n"
          ]
        }
      ]
    },
    {
      "cell_type": "code",
      "source": [
        "def load_data(path):\n",
        "  text = path.read_text(encoding=\"utf-8\")\n",
        "  lines = text.splitlines()\n",
        "  pairs = [line.split(\"\\t\") for line in lines]\n",
        "\n",
        "  targ = [tar for (tar,inp) in pairs]\n",
        "  inp = [inu for (tar,inu) in pairs]\n",
        "\n",
        "  return inp,targ"
      ],
      "metadata": {
        "id": "Zi0d9P-gxA4T"
      },
      "execution_count": 6,
      "outputs": []
    },
    {
      "cell_type": "code",
      "source": [
        "inp,targ = load_data(path=path)\n",
        "print(inp[-1])"
      ],
      "metadata": {
        "colab": {
          "base_uri": "https://localhost:8080/"
        },
        "id": "69S5OcLjxkbK",
        "outputId": "1b789900-f435-40bd-c1b4-550bed397dee"
      },
      "execution_count": 7,
      "outputs": [
        {
          "output_type": "stream",
          "name": "stdout",
          "text": [
            "Si quieres sonar como un hablante nativo, debes estar dispuesto a practicar diciendo la misma frase una y otra vez de la misma manera en que un músico de banjo practica el mismo fraseo una y otra vez hasta que lo puedan tocar correctamente y en el tiempo esperado.\n"
          ]
        }
      ]
    },
    {
      "cell_type": "code",
      "source": [
        "print(targ[-1])"
      ],
      "metadata": {
        "colab": {
          "base_uri": "https://localhost:8080/"
        },
        "id": "SaF-h8xsxteo",
        "outputId": "59f11ebb-b2df-4da3-b5b3-f8438d9b9df3"
      },
      "execution_count": 8,
      "outputs": [
        {
          "output_type": "stream",
          "name": "stdout",
          "text": [
            "If you want to sound like a native speaker, you must be willing to practice saying the same sentence over and over in the same way that banjo players practice the same phrase over and over until they can play it correctly and at the desired tempo.\n"
          ]
        }
      ]
    },
    {
      "cell_type": "code",
      "source": [
        "for i in tf.data.Dataset.from_tensor_slices(inp).take(2):\n",
        "  print(i)"
      ],
      "metadata": {
        "colab": {
          "base_uri": "https://localhost:8080/"
        },
        "id": "HrsBtR-Kx4CX",
        "outputId": "4e8f9f83-34c5-4fe3-9603-970333d87083"
      },
      "execution_count": 9,
      "outputs": [
        {
          "output_type": "stream",
          "name": "stdout",
          "text": [
            "tf.Tensor(b'Ve.', shape=(), dtype=string)\n",
            "tf.Tensor(b'Vete.', shape=(), dtype=string)\n"
          ]
        }
      ]
    },
    {
      "cell_type": "code",
      "source": [
        "BUFFER_SIZE = len(inp)\n",
        "BATCH_SIZE = 64"
      ],
      "metadata": {
        "id": "YxcBtwa-ydZM"
      },
      "execution_count": 10,
      "outputs": []
    },
    {
      "cell_type": "code",
      "source": [
        "dataset = tf.data.Dataset.from_tensor_slices((inp,targ)).shuffle(buffer_size=BUFFER_SIZE)\n",
        "dataset = dataset.batch(BATCH_SIZE)"
      ],
      "metadata": {
        "id": "nEXyagAyy3Wm"
      },
      "execution_count": 11,
      "outputs": []
    },
    {
      "cell_type": "code",
      "source": [
        "for inp_batch,targ_batch in dataset.take(1):\n",
        "  print(inp_batch[:3])\n",
        "  print(\"\\nNew language\")\n",
        "  print(targ_batch[:3])"
      ],
      "metadata": {
        "colab": {
          "base_uri": "https://localhost:8080/"
        },
        "id": "XsASZBFszlJX",
        "outputId": "23babed3-89d9-4b38-ff78-ee6bd8106b3e"
      },
      "execution_count": 12,
      "outputs": [
        {
          "output_type": "stream",
          "name": "stdout",
          "text": [
            "tf.Tensor(\n",
            "[b'Yo pienso que ahora nos podemos relajar.'\n",
            " b'\\xc2\\xbfDe qui\\xc3\\xa9n es esta bicicleta?'\n",
            " b'No uses esto hasta ma\\xc3\\xb1ana.'], shape=(3,), dtype=string)\n",
            "\n",
            "New language\n",
            "tf.Tensor(\n",
            "[b'I think we can relax now.' b'Whose bike is this?'\n",
            " b\"Don't use this until tomorrow.\"], shape=(3,), dtype=string)\n"
          ]
        }
      ]
    },
    {
      "cell_type": "code",
      "source": [
        "def tf_lower_and_split_punct(text):\n",
        "\n",
        "  text = tf_text.normalize_utf8(text,\"NFKD\")\n",
        "  text = tf.strings.lower(text)\n",
        "  text = tf.strings.regex_replace(text,\"[^ a-z?.!,¿]\",\"\")\n",
        "  text = tf.strings.regex_replace(text,\"[.?!,¿]\",r\" \\0\")\n",
        "  text = tf.strings.join([\"[START]\",text,\"[END]\"],separator=\" \")\n",
        "  return text"
      ],
      "metadata": {
        "id": "Rar098Iezxc8"
      },
      "execution_count": 13,
      "outputs": []
    },
    {
      "cell_type": "code",
      "source": [
        "example_text = tf.constant('¿Todavía está en casa?')\n",
        "print(example_text.numpy().decode())\n",
        "print(tf_lower_and_split_punct(example_text).numpy().decode())"
      ],
      "metadata": {
        "colab": {
          "base_uri": "https://localhost:8080/"
        },
        "id": "01Qu-1rD4fgO",
        "outputId": "21dcaacc-602a-4285-c680-e6d2084e2034"
      },
      "execution_count": 14,
      "outputs": [
        {
          "output_type": "stream",
          "name": "stdout",
          "text": [
            "¿Todavía está en casa?\n",
            "[START]  ¿todavia esta en casa ? [END]\n"
          ]
        }
      ]
    },
    {
      "cell_type": "code",
      "source": [
        "max_vocab_size = 5000\n",
        "input_text_processor = tf.keras.layers.TextVectorization(standardize=tf_lower_and_split_punct,\n",
        "                                                         max_tokens=max_vocab_size)\n",
        "output_text_processor = tf.keras.layers.TextVectorization(standardize=tf_lower_and_split_punct,\n",
        "                                                          max_tokens=max_vocab_size)\n",
        "input_text_processor.adapt(inp)\n",
        "output_text_processor.adapt(targ)"
      ],
      "metadata": {
        "id": "jnNW6JzF4sdj"
      },
      "execution_count": 15,
      "outputs": []
    },
    {
      "cell_type": "code",
      "source": [
        "input_text_processor.get_vocabulary()[:10]"
      ],
      "metadata": {
        "colab": {
          "base_uri": "https://localhost:8080/"
        },
        "id": "hNKGv-2s5yoN",
        "outputId": "0340e3d7-a1ad-4c10-e807-d764aa926fec"
      },
      "execution_count": 16,
      "outputs": [
        {
          "output_type": "execute_result",
          "data": {
            "text/plain": [
              "['', '[UNK]', '[START]', '[END]', '.', 'que', 'de', 'el', 'a', 'no']"
            ]
          },
          "metadata": {},
          "execution_count": 16
        }
      ]
    },
    {
      "cell_type": "code",
      "source": [
        "output_text_processor.get_vocabulary()[:10]"
      ],
      "metadata": {
        "colab": {
          "base_uri": "https://localhost:8080/"
        },
        "id": "AAmXtHpK54R4",
        "outputId": "199e9ef2-13de-46f0-8811-475cc0a0e3ad"
      },
      "execution_count": 17,
      "outputs": [
        {
          "output_type": "execute_result",
          "data": {
            "text/plain": [
              "['', '[UNK]', '[START]', '[END]', '.', 'the', 'i', 'to', 'you', 'tom']"
            ]
          },
          "metadata": {},
          "execution_count": 17
        }
      ]
    },
    {
      "cell_type": "code",
      "source": [
        "len(input_text_processor.get_vocabulary())"
      ],
      "metadata": {
        "colab": {
          "base_uri": "https://localhost:8080/"
        },
        "id": "hCv1cWEV5-NT",
        "outputId": "13b0471b-79c3-4d06-aead-c18945d07766"
      },
      "execution_count": 18,
      "outputs": [
        {
          "output_type": "execute_result",
          "data": {
            "text/plain": [
              "5000"
            ]
          },
          "metadata": {},
          "execution_count": 18
        }
      ]
    },
    {
      "cell_type": "code",
      "source": [
        "inp_tokens = input_text_processor(inp_batch)"
      ],
      "metadata": {
        "id": "x2WzAIy16FZA"
      },
      "execution_count": 19,
      "outputs": []
    },
    {
      "cell_type": "code",
      "source": [
        "inp_tokens.shape"
      ],
      "metadata": {
        "colab": {
          "base_uri": "https://localhost:8080/"
        },
        "id": "k8-CT5cMYNfJ",
        "outputId": "433cfaed-24d7-4665-b8ac-b3fd8af42ed9"
      },
      "execution_count": 20,
      "outputs": [
        {
          "output_type": "execute_result",
          "data": {
            "text/plain": [
              "TensorShape([64, 20])"
            ]
          },
          "metadata": {},
          "execution_count": 20
        }
      ]
    },
    {
      "cell_type": "code",
      "source": [
        "input_vocab = np.array(input_text_processor.get_vocabulary())\n",
        "\" \".join(input_vocab[inp_tokens[0].numpy()])"
      ],
      "metadata": {
        "id": "7ebMhaws6LXb",
        "colab": {
          "base_uri": "https://localhost:8080/",
          "height": 35
        },
        "outputId": "03419a0b-238f-4408-d7e8-7e6e2e7561b9"
      },
      "execution_count": 21,
      "outputs": [
        {
          "output_type": "execute_result",
          "data": {
            "text/plain": [
              "'[START] yo pienso que ahora nos podemos [UNK] . [END]          '"
            ],
            "application/vnd.google.colaboratory.intrinsic+json": {
              "type": "string"
            }
          },
          "metadata": {},
          "execution_count": 21
        }
      ]
    },
    {
      "cell_type": "code",
      "source": [
        "plt.subplot(1,2,1)\n",
        "plt.pcolormesh(inp_tokens)\n",
        "plt.title(\"Token ids\")\n",
        "\n",
        "plt.subplot(1,2,2)\n",
        "plt.pcolormesh(inp_tokens!=0)\n",
        "plt.title(\"Mask\")"
      ],
      "metadata": {
        "colab": {
          "base_uri": "https://localhost:8080/",
          "height": 298
        },
        "id": "hT4CHuU9YHDg",
        "outputId": "6f62192b-0c7d-44bb-b04b-2ecf1b560da6"
      },
      "execution_count": 22,
      "outputs": [
        {
          "output_type": "execute_result",
          "data": {
            "text/plain": [
              "Text(0.5, 1.0, 'Mask')"
            ]
          },
          "metadata": {},
          "execution_count": 22
        },
        {
          "output_type": "display_data",
          "data": {
            "text/plain": [
              "<Figure size 432x288 with 2 Axes>"
            ],
            "image/png": "[encoded data removed]"
          },
          "metadata": {
            "needs_background": "light"
          }
        }
      ]
    },
    {
      "cell_type": "code",
      "source": [
        "embedding_dim = 256\n",
        "units = 1024"
      ],
      "metadata": {
        "id": "ZnoOhWNDY3PN"
      },
      "execution_count": 23,
      "outputs": []
    },
    {
      "cell_type": "code",
      "source": [
        "class Encoder(tf.keras.layers.Layer):\n",
        "\n",
        "  def __init__(self,input_vocab_size,embedding_dim,enc_units):\n",
        "\n",
        "    super(Encoder,self).__init__()\n",
        "    self.enc_units = enc_units\n",
        "    self.input_vocab_size = input_vocab_size\n",
        "    self.embedding = tf.keras.layers.Embedding(input_dim=self.input_vocab_size,\n",
        "                                               output_dim=embedding_dim)\n",
        "    \n",
        "    self.gru = tf.keras.layers.GRU(units=enc_units,\n",
        "                                   return_state=True,\n",
        "                                   return_sequences=True,\n",
        "                                   recurrent_initializer=\"glorot_uniform\")\n",
        "  \n",
        "  def call(self,tokens,state=None):\n",
        "\n",
        "    sc = ShapeChecker()\n",
        "    sc(tokens,(\"batch\",\"s\"))\n",
        "\n",
        "    vectors = self.embedding(tokens)\n",
        "    sc(vectors,(\"batch\",\"s\",\"embed_dim\"))\n",
        "\n",
        "    output,state = self.gru(vectors,initial_state=state)\n",
        "\n",
        "    sc(output,(\"batch\",\"s\",\"enc_units\"))\n",
        "    sc(state,(\"batch\",\"enc_units\"))\n",
        "\n",
        "    return output,state"
      ],
      "metadata": {
        "id": "arUoLgeuZp55"
      },
      "execution_count": 24,
      "outputs": []
    },
    {
      "cell_type": "code",
      "source": [
        "example_tokens = input_text_processor(inp_batch)\n",
        "encoder = Encoder(enc_units=units,input_vocab_size=input_text_processor.vocabulary_size(),embedding_dim=embedding_dim)\n",
        "example_enc_output,example_enc_state = encoder(inp_tokens)\n",
        "\n",
        "print(\"Output shape: \",tf.shape(example_enc_output))\n",
        "print(\"State shape: \",tf.shape(example_enc_state))\n",
        "print(\"Input tokens shape: \",tf.shape(example_tokens))"
      ],
      "metadata": {
        "colab": {
          "base_uri": "https://localhost:8080/"
        },
        "id": "TeumZOzLaXlW",
        "outputId": "b5872a25-aa9e-4661-b4d4-b0833b37729b"
      },
      "execution_count": 25,
      "outputs": [
        {
          "output_type": "stream",
          "name": "stdout",
          "text": [
            "Output shape:  tf.Tensor([  64   20 1024], shape=(3,), dtype=int32)\n",
            "State shape:  tf.Tensor([  64 1024], shape=(2,), dtype=int32)\n",
            "Input tokens shape:  tf.Tensor([64 20], shape=(2,), dtype=int32)\n"
          ]
        }
      ]
    },
    {
      "cell_type": "code",
      "source": [
        "class BahdanauAttention(tf.keras.layers.Layer):\n",
        "\n",
        "  def __init__(self,units):\n",
        "\n",
        "    super(BahdanauAttention,self).__init__()\n",
        "    self.W1 = tf.keras.layers.Dense(units,use_bias=False)\n",
        "    self.W2 = tf.keras.layers.Dense(units,use_bias=False)\n",
        "    self.attention = tf.keras.layers.AdditiveAttention()\n",
        "  \n",
        "  def call(self,query,value,mask):\n",
        "\n",
        "    w1_query = self.W1(query)\n",
        "    w2_key = self.W2(value)\n",
        "\n",
        "    value_mask = mask\n",
        "    query_mask = tf.ones(tf.shape(query)[:-1],dtype=bool)\n",
        "\n",
        "    context_vector,attention_weights = self.attention(inputs=[w1_query,value,w2_key],\n",
        "                                            mask=[query_mask,value_mask],\n",
        "                                            return_attention_scores=True)\n",
        "    \n",
        "    return context_vector,attention_weights"
      ],
      "metadata": {
        "id": "1TPmDdbvcWEL"
      },
      "execution_count": 26,
      "outputs": []
    },
    {
      "cell_type": "code",
      "source": [
        "class Decoder(tf.keras.layers.Layer):\n",
        "\n",
        "  def __init__(self,output_vocab_size,embedding_dim,dec_units):\n",
        "\n",
        "    super(Decoder,self).__init__()\n",
        "    self.output_vocab_size = output_vocab_size\n",
        "    self.embedding_dim = embedding_dim\n",
        "    self.dec_units = dec_units\n",
        "\n",
        "    self.embedding = tf.keras.layers.Embedding(output_vocab_size,embedding_dim)\n",
        "    self.gru = tf.keras.layers.GRU(dec_units,\n",
        "                                   return_state=True,\n",
        "                                   return_sequences=True,\n",
        "                                   recurrent_initializer=\"glorot_uniform\")\n",
        "    self.attention = BahdanauAttention(dec_units)\n",
        "    self.Wc = tf.keras.layers.Dense(dec_units,activation=tf.math.tanh,use_bias=False)\n",
        "    self.fc = tf.keras.layers.Dense(output_vocab_size)"
      ],
      "metadata": {
        "id": "9-ZpLofNgWnm"
      },
      "execution_count": 27,
      "outputs": []
    },
    {
      "cell_type": "code",
      "source": [
        "class DecoderInput(typing.NamedTuple):\n",
        "  new_tokens: Any\n",
        "  enc_output: Any\n",
        "  mask: Any\n",
        "\n",
        "class DecoderOutput(typing.NamedTuple):\n",
        "  logits: Any\n",
        "  attention_weights: Any"
      ],
      "metadata": {
        "id": "1w5HxINoLI1W"
      },
      "execution_count": 28,
      "outputs": []
    },
    {
      "cell_type": "code",
      "source": [
        "def call(self,inputs:DecoderInput,state=None) -> Tuple[DecoderOutput,tf.Tensor]:\n",
        "\n",
        "  vectors = self.embedding(inputs.new_tokens)\n",
        "  rnn_outputs,state = self.gru(vectors,initial_state=state)\n",
        "  context_vector,attention_weights = self.attention(query=rnn_outputs,\n",
        "                                                    value=inputs.enc_output,\n",
        "                                                    mask=inputs.mask)\n",
        "  attention_vector = self.Wc(tf.concat([context_vector,rnn_outputs],axis=-1))\n",
        "  logits = self.fc(attention_vector)\n",
        "  return DecoderOutput(logits,attention_weights),state"
      ],
      "metadata": {
        "id": "jZsl6iUhLf5n"
      },
      "execution_count": 29,
      "outputs": []
    },
    {
      "cell_type": "code",
      "source": [
        "Decoder.call = call"
      ],
      "metadata": {
        "id": "Nc_S_J50NZr3"
      },
      "execution_count": 30,
      "outputs": []
    },
    {
      "cell_type": "code",
      "source": [
        "class MaskedLoss(tf.keras.losses.Loss):\n",
        "\n",
        "  def __init__(self):\n",
        "    self.name = \"masked_loss\"\n",
        "    self.loss = tf.keras.losses.SparseCategoricalCrossentropy(from_logits=True,\n",
        "                                                              reduction=\"none\")\n",
        "  \n",
        "  def __call__(self,y_true,y_pred):\n",
        "\n",
        "    loss = self.loss(y_true,y_pred)\n",
        "\n",
        "    mask = tf.cast(y_true!=0,tf.float32)\n",
        "    loss *= mask\n",
        "\n",
        "    return tf.reduce_sum(loss)"
      ],
      "metadata": {
        "id": "P4Y1kZl7Nfl3"
      },
      "execution_count": 31,
      "outputs": []
    },
    {
      "cell_type": "code",
      "source": [
        "class TrainTranslator(tf.keras.Model):\n",
        "\n",
        "  def __init__(self,embedding_dim,units,\n",
        "               input_text_processor,\n",
        "               output_text_processor,\n",
        "               use_tf_function=True):\n",
        "    super().__init__()\n",
        "\n",
        "    self.input_text_processor = input_text_processor\n",
        "    self.output_text_processor = output_text_processor\n",
        "    self.encoder = Encoder(input_text_processor.vocabulary_size(),\n",
        "                           embedding_dim,\n",
        "                           units)\n",
        "    self.decoder = Decoder(output_text_processor.vocabulary_size(),\n",
        "                           embedding_dim,\n",
        "                           units)\n",
        "    self.use_tf_function = use_tf_function\n",
        "  \n",
        "  def train_step(self,inputs):\n",
        "\n",
        "    if self.use_tf_function:\n",
        "      return self._tf_train_step(inputs)\n",
        "    \n",
        "    else:\n",
        "      return self._train_step(inputs)"
      ],
      "metadata": {
        "id": "x_ScVtkDpC7x"
      },
      "execution_count": 32,
      "outputs": []
    },
    {
      "cell_type": "code",
      "source": [
        "def _preprocess(self,input_text,target_text):\n",
        "\n",
        "  input_tokens = self.input_text_processor(input_text)\n",
        "  target_tokens = self.output_text_processor(target_text)\n",
        "\n",
        "  input_mask = input_tokens!=0\n",
        "  target_mask = target_tokens!=0\n",
        "\n",
        "  return input_tokens,input_mask,target_tokens,target_mask"
      ],
      "metadata": {
        "id": "YUsfPLbLuT3_"
      },
      "execution_count": 33,
      "outputs": []
    },
    {
      "cell_type": "code",
      "source": [
        "TrainTranslator._preprocess = _preprocess"
      ],
      "metadata": {
        "id": "XtLwoofvu1de"
      },
      "execution_count": 34,
      "outputs": []
    },
    {
      "cell_type": "code",
      "source": [
        "def _loop_step(self,new_tokens,input_mask,enc_output,dec_state):\n",
        "\n",
        "  input_token = new_tokens[:,0:1]\n",
        "  target_token = new_tokens[:,1:2]\n",
        "\n",
        "  dec_input = DecoderInput(new_tokens=input_token,\n",
        "                           enc_output=enc_output,\n",
        "                           mask=input_mask)\n",
        "\n",
        "  dec_result,dec_state = self.decoder(dec_input,state=dec_state)\n",
        "\n",
        "  y_true = target_token\n",
        "  y_pred = dec_result.logits\n",
        "  step_loss = self.loss(y_true,y_pred)\n",
        "\n",
        "  return step_loss,dec_state"
      ],
      "metadata": {
        "id": "H5k16kFLu4_D"
      },
      "execution_count": 35,
      "outputs": []
    },
    {
      "cell_type": "code",
      "source": [
        "TrainTranslator._loop_step = _loop_step"
      ],
      "metadata": {
        "id": "qsgXMmdawrbu"
      },
      "execution_count": 36,
      "outputs": []
    },
    {
      "cell_type": "code",
      "source": [
        "def _train_step(self,inputs):\n",
        "  input_text,target_text = inputs\n",
        "  (input_tokens,input_mask,target_tokens,target_mask) = self._preprocess(input_text,target_text)\n",
        "\n",
        "  max_seq_length = tf.shape(target_tokens)[1]\n",
        "\n",
        "  with tf.GradientTape() as tape:\n",
        "\n",
        "    enc_output,enc_state = self.encoder(input_tokens)\n",
        "    dec_state = enc_state\n",
        "    loss = tf.constant(0.0)\n",
        "\n",
        "    for t in tf.range(max_seq_length-1):\n",
        "      new_tokens = target_tokens[:,t:t+2]\n",
        "      step_loss,dec_state = self._loop_step(new_tokens,input_mask,enc_output,dec_state)\n",
        "\n",
        "      loss += step_loss\n",
        "\n",
        "    avg_loss = loss/tf.reduce_sum(tf.cast(target_mask,tf.float32))\n",
        "\n",
        "  variables = self.trainable_variables\n",
        "  gradient = tape.gradient(avg_loss,variables)\n",
        "  self.optimizer.apply_gradients(zip(gradient,variables))\n",
        "\n",
        "  return {\"batch_loss\":avg_loss}"
      ],
      "metadata": {
        "id": "_oSza2hTwuL4"
      },
      "execution_count": 37,
      "outputs": []
    },
    {
      "cell_type": "code",
      "source": [
        "TrainTranslator._train_step = _train_step"
      ],
      "metadata": {
        "id": "EpTRevO_zQW2"
      },
      "execution_count": 38,
      "outputs": []
    },
    {
      "cell_type": "code",
      "source": [
        "translator = TrainTranslator(embedding_dim=embedding_dim,\n",
        "                             units=units,\n",
        "                             input_text_processor=input_text_processor,\n",
        "                             output_text_processor=output_text_processor,\n",
        "                             use_tf_function=False)\n",
        "\n",
        "translator.compile(loss=MaskedLoss(),\n",
        "                   optimizer=tf.optimizers.Adam())"
      ],
      "metadata": {
        "id": "s1qLN8KnzUXs"
      },
      "execution_count": 39,
      "outputs": []
    },
    {
      "cell_type": "code",
      "source": [
        "for i in range(10):\n",
        "  print(translator.train_step([inp_batch,targ_batch]))"
      ],
      "metadata": {
        "colab": {
          "base_uri": "https://localhost:8080/"
        },
        "id": "nXOxmbwgz2Nt",
        "outputId": "40f249c3-0a60-4959-af5c-2b93f7bdb95e"
      },
      "execution_count": 40,
      "outputs": [
        {
          "output_type": "stream",
          "name": "stdout",
          "text": [
            "{'batch_loss': <tf.Tensor: shape=(), dtype=float32, numpy=7.6372333>}\n",
            "{'batch_loss': <tf.Tensor: shape=(), dtype=float32, numpy=7.608344>}\n",
            "{'batch_loss': <tf.Tensor: shape=(), dtype=float32, numpy=7.5563283>}\n",
            "{'batch_loss': <tf.Tensor: shape=(), dtype=float32, numpy=7.4084744>}\n",
            "{'batch_loss': <tf.Tensor: shape=(), dtype=float32, numpy=6.8580055>}\n",
            "{'batch_loss': <tf.Tensor: shape=(), dtype=float32, numpy=5.220927>}\n",
            "{'batch_loss': <tf.Tensor: shape=(), dtype=float32, numpy=4.554706>}\n",
            "{'batch_loss': <tf.Tensor: shape=(), dtype=float32, numpy=4.399474>}\n",
            "{'batch_loss': <tf.Tensor: shape=(), dtype=float32, numpy=4.180264>}\n",
            "{'batch_loss': <tf.Tensor: shape=(), dtype=float32, numpy=4.0223165>}\n"
          ]
        }
      ]
    },
    {
      "cell_type": "code",
      "source": [
        "@tf.function(input_signature=[[tf.TensorSpec(dtype=tf.string,shape=[None]),\n",
        "                               tf.TensorSpec(dtype=tf.string,shape=[None])]])\n",
        "def _tf_train_step(self,inputs):\n",
        "  return self._train_step(inputs)"
      ],
      "metadata": {
        "id": "jeBybVE42Oxa"
      },
      "execution_count": 41,
      "outputs": []
    },
    {
      "cell_type": "code",
      "source": [
        "TrainTranslator._tf_train_step = _tf_train_step"
      ],
      "metadata": {
        "id": "V2LDfwcvEf7h"
      },
      "execution_count": 42,
      "outputs": []
    },
    {
      "cell_type": "code",
      "source": [
        "translator.use_tf_function = True"
      ],
      "metadata": {
        "id": "WS-02nyLEj8z"
      },
      "execution_count": 43,
      "outputs": []
    },
    {
      "cell_type": "code",
      "source": [
        "for n in range(10):\n",
        "  print(translator.train_step([inp_batch,targ_batch]))"
      ],
      "metadata": {
        "colab": {
          "base_uri": "https://localhost:8080/"
        },
        "id": "_JeH9tLHEl5T",
        "outputId": "623888bc-85d1-44e7-a2fb-fd02bc2c47ae"
      },
      "execution_count": 44,
      "outputs": [
        {
          "output_type": "stream",
          "name": "stdout",
          "text": [
            "{'batch_loss': <tf.Tensor: shape=(), dtype=float32, numpy=4.010975>}\n",
            "{'batch_loss': <tf.Tensor: shape=(), dtype=float32, numpy=3.9284205>}\n",
            "{'batch_loss': <tf.Tensor: shape=(), dtype=float32, numpy=3.8277013>}\n",
            "{'batch_loss': <tf.Tensor: shape=(), dtype=float32, numpy=3.7624772>}\n",
            "{'batch_loss': <tf.Tensor: shape=(), dtype=float32, numpy=3.664505>}\n",
            "{'batch_loss': <tf.Tensor: shape=(), dtype=float32, numpy=3.615479>}\n",
            "{'batch_loss': <tf.Tensor: shape=(), dtype=float32, numpy=3.558912>}\n",
            "{'batch_loss': <tf.Tensor: shape=(), dtype=float32, numpy=3.50773>}\n",
            "{'batch_loss': <tf.Tensor: shape=(), dtype=float32, numpy=3.435589>}\n",
            "{'batch_loss': <tf.Tensor: shape=(), dtype=float32, numpy=3.38891>}\n"
          ]
        }
      ]
    },
    {
      "cell_type": "code",
      "source": [
        "losses = []\n",
        "\n",
        "for n in range(100):\n",
        "  print(\".\",end=\" \")\n",
        "  logs = translator.train_step([inp_batch,targ_batch])\n",
        "  losses.append(logs[\"batch_loss\"].numpy())\n",
        "\n",
        "plt.plot(losses)"
      ],
      "metadata": {
        "colab": {
          "base_uri": "https://localhost:8080/",
          "height": 320
        },
        "id": "dcogQs7KEtDC",
        "outputId": "a67121a6-8797-4a7a-fecf-2e2961662159"
      },
      "execution_count": 45,
      "outputs": [
        {
          "output_type": "stream",
          "name": "stdout",
          "text": [
            ". . . . . . . . . . . . . . . . . . . . . . . . . . . . . . . . . . . . . . . . . . . . . . . . . . . . . . . . . . . . . . . . . . . . . . . . . . . . . . . . . . . . . . . . . . . . . . . . . . . . "
          ]
        },
        {
          "output_type": "execute_result",
          "data": {
            "text/plain": [
              "[<matplotlib.lines.Line2D at 0x7f2b80096910>]"
            ]
          },
          "metadata": {},
          "execution_count": 45
        },
        {
          "output_type": "display_data",
          "data": {
            "text/plain": [
              "<Figure size 432x288 with 1 Axes>"
            ],
            "image/png": "[encoded data removed]"
          },
          "metadata": {
            "needs_background": "light"
          }
        }
      ]
    },
    {
      "cell_type": "code",
      "source": [
        "class BatchLogs(tf.keras.callbacks.Callback):\n",
        "\n",
        "  def __init__(self,key):\n",
        "    self.key = key\n",
        "    self.logs = []\n",
        "  \n",
        "  def on_train_batch_end(self,n,logs):\n",
        "    self.logs.append(logs[self.key])\n",
        "\n",
        "batch_loss = BatchLogs(\"batch_loss\")"
      ],
      "metadata": {
        "id": "9C5dX_IUFVYw"
      },
      "execution_count": 46,
      "outputs": []
    },
    {
      "cell_type": "code",
      "source": [
        "train_translator = TrainTranslator(\n",
        "    embedding_dim,\n",
        "    units,\n",
        "    input_text_processor,\n",
        "    output_text_processor\n",
        ")\n",
        "\n",
        "train_translator.compile(\n",
        "    optimizer=tf.optimizers.Adam(),\n",
        "    loss = MaskedLoss()\n",
        ")"
      ],
      "metadata": {
        "id": "VNA7F8zWGFgq"
      },
      "execution_count": 51,
      "outputs": []
    },
    {
      "cell_type": "code",
      "source": [
        "train_translator.fit(dataset,\n",
        "               epochs=3,\n",
        "               callbacks=[batch_loss])"
      ],
      "metadata": {
        "colab": {
          "base_uri": "https://localhost:8080/"
        },
        "id": "nJ0ajyxyGbNU",
        "outputId": "c8362778-5510-4487-ea07-043de6b02738"
      },
      "execution_count": 52,
      "outputs": [
        {
          "output_type": "stream",
          "name": "stdout",
          "text": [
            "Epoch 1/3\n",
            "1859/1859 [==============================] - 714s 381ms/step - batch_loss: 2.1844\n",
            "Epoch 2/3\n",
            "1859/1859 [==============================] - 535s 288ms/step - batch_loss: 1.0733\n",
            "Epoch 3/3\n",
            "1859/1859 [==============================] - 485s 261ms/step - batch_loss: 0.8334\n"
          ]
        },
        {
          "output_type": "execute_result",
          "data": {
            "text/plain": [
              "<keras.callbacks.History at 0x7f2b80034290>"
            ]
          },
          "metadata": {},
          "execution_count": 52
        }
      ]
    },
    {
      "cell_type": "code",
      "source": [
        "plt.plot(batch_loss.logs)\n",
        "plt.ylim([0,3])\n",
        "plt.xlabel(\"Batch #\")\n",
        "plt.ylabel(\"CE/token\")"
      ],
      "metadata": {
        "colab": {
          "base_uri": "https://localhost:8080/",
          "height": 300
        },
        "id": "MmJOi-3pG5_5",
        "outputId": "c9f414a3-ec0f-421f-de16-48bcdb9840e4"
      },
      "execution_count": 53,
      "outputs": [
        {
          "output_type": "execute_result",
          "data": {
            "text/plain": [
              "Text(0, 0.5, 'CE/token')"
            ]
          },
          "metadata": {},
          "execution_count": 53
        },
        {
          "output_type": "display_data",
          "data": {
            "text/plain": [
              "<Figure size 432x288 with 1 Axes>"
            ],
            "image/png": "[encoded data removed]"
          },
          "metadata": {
            "needs_background": "light"
          }
        }
      ]
    },
    {
      "cell_type": "code",
      "source": [
        "class Translator(tf.Module):\n",
        "\n",
        "  def __init__(self,encoder,decoder,input_text_processor,output_text_processor):\n",
        "    self.encoder = encoder\n",
        "    self.decoder = decoder\n",
        "    self.input_text_processor = input_text_processor\n",
        "    self.output_text_processor = output_text_processor\n",
        "\n",
        "    self.output_token_string_from_index = (\n",
        "        tf.keras.layers.StringLookup(vocabulary=output_text_processor.get_vocabulary(),\n",
        "                                     invert=True,\n",
        "                                     mask_token='')\n",
        "    )\n",
        "    index_from_string = tf.keras.layers.StringLookup(vocabulary=output_text_processor.get_vocabulary(),\n",
        "                                                     mask_token='')\n",
        "    \n",
        "    token_mask_ids = index_from_string(['',\"[UNK]\",\"[START]\"]).numpy()\n",
        "    token_mask = np.zeros([output_text_processor.vocabulary_size()],dtype=bool)\n",
        "    token_mask[np.array(token_mask_ids)] = True\n",
        "    self.token_mask = token_mask\n",
        "    \n",
        "    self.start_token = index_from_string(tf.constant(\"[START]\"))\n",
        "    self.end_token = index_from_string(tf.constant(\"[END]\"))                      "
      ],
      "metadata": {
        "id": "U1pO5E2KHGsp"
      },
      "execution_count": 54,
      "outputs": []
    },
    {
      "cell_type": "code",
      "source": [
        "translator = Translator(\n",
        "    encoder = train_translator.encoder,\n",
        "    decoder = train_translator.decoder,\n",
        "    input_text_processor = input_text_processor,\n",
        "    output_text_processor = output_text_processor\n",
        ")"
      ],
      "metadata": {
        "id": "CPjP3dfRkd5k"
      },
      "execution_count": 55,
      "outputs": []
    },
    {
      "cell_type": "code",
      "source": [
        "def tokens_to_text(self,result_tokens):\n",
        "\n",
        "  result_text = self.output_token_string_from_index(result_tokens)\n",
        "  result_text = tf.strings.reduce_join(result_text,axis=-1,separator=\" \")\n",
        "  result_text = tf.strings.strip(result_text)\n",
        "  return result_text"
      ],
      "metadata": {
        "id": "KkPJtSTBk5rL"
      },
      "execution_count": 79,
      "outputs": []
    },
    {
      "cell_type": "code",
      "source": [
        "Translator.tokens_to_text = tokens_to_text"
      ],
      "metadata": {
        "id": "VVw2RaRPlgYV"
      },
      "execution_count": 80,
      "outputs": []
    },
    {
      "cell_type": "code",
      "source": [
        "def sample(self,logits,temperature):\n",
        "\n",
        "  token_mask = self.token_mask[tf.newaxis,tf.newaxis,...]\n",
        "  logits = tf.where(token_mask,-np.inf,logits)\n",
        "\n",
        "  if temperature==0.0:\n",
        "    new_tokens = tf.argmax(logits,axis=-1)\n",
        "  \n",
        "  else:\n",
        "    logits = tf.squeeze(logits,axis=1)\n",
        "    new_tokens = tf.random.categorical(logits/temperature,num_samples=1)\n",
        "  \n",
        "  return new_tokens"
      ],
      "metadata": {
        "id": "0wbGwCE0lj2C"
      },
      "execution_count": 81,
      "outputs": []
    },
    {
      "cell_type": "code",
      "source": [
        "Translator.sample = sample"
      ],
      "metadata": {
        "id": "DPulShJxnKNj"
      },
      "execution_count": 82,
      "outputs": []
    },
    {
      "cell_type": "code",
      "source": [
        "def translate_unrolled(self,\n",
        "                       input_text, *,\n",
        "                       max_length=50,\n",
        "                       return_attention=True,\n",
        "                       temperature=1.0):\n",
        "  batch_size = tf.shape(input_text)[0]\n",
        "  input_tokens = self.input_text_processor(input_text)\n",
        "  enc_output, enc_state = self.encoder(input_tokens)\n",
        "\n",
        "  dec_state = enc_state\n",
        "  new_tokens = tf.fill([batch_size, 1], self.start_token)\n",
        "\n",
        "  result_tokens = []\n",
        "  attention = []\n",
        "  done = tf.zeros([batch_size, 1], dtype=tf.bool)\n",
        "\n",
        "  for _ in range(max_length):\n",
        "    dec_input = DecoderInput(new_tokens=new_tokens,\n",
        "                             enc_output=enc_output,\n",
        "                             mask=(input_tokens!=0))\n",
        "\n",
        "    dec_result, dec_state = self.decoder(dec_input, state=dec_state)\n",
        "\n",
        "    attention.append(dec_result.attention_weights)\n",
        "\n",
        "    new_tokens = self.sample(dec_result.logits, temperature=temperature)\n",
        "\n",
        "\n",
        "    done = done | (new_tokens == self.end_token)\n",
        "  \n",
        "    new_tokens = tf.where(done, tf.constant(0, dtype=tf.int64), new_tokens)\n",
        "\n",
        "    result_tokens.append(new_tokens)\n",
        "\n",
        "    if tf.executing_eagerly() and tf.reduce_all(done):\n",
        "      break\n",
        "\n",
        "  result_tokens = tf.concat(result_tokens, axis=-1)\n",
        "  result_text = self.tokens_to_text(result_tokens)\n",
        "\n",
        "  if return_attention:\n",
        "    attention_stack = tf.concat(attention, axis=1)\n",
        "    return {'text': result_text, 'attention': attention_stack}\n",
        "  else:\n",
        "    return {'text': result_text}\n"
      ],
      "metadata": {
        "id": "lxkyh1s7nMXX"
      },
      "execution_count": 83,
      "outputs": []
    },
    {
      "cell_type": "code",
      "source": [
        "Translator.translate = translate_unrolled"
      ],
      "metadata": {
        "id": "Dei4kFWbo17J"
      },
      "execution_count": 84,
      "outputs": []
    },
    {
      "cell_type": "code",
      "source": [
        "input_text = tf.constant([\n",
        "    'hace mucho frio aqui.', # \"It's really cold here.\"\n",
        "    'Esta es mi vida.', # \"This is my life.\"\"\n",
        "])\n",
        "\n",
        "result = translator.translate(\n",
        "    input_text = input_text)\n",
        "\n",
        "print(result['text'][0].numpy().decode())\n",
        "print(result['text'][1].numpy().decode())\n",
        "print()\n"
      ],
      "metadata": {
        "colab": {
          "base_uri": "https://localhost:8080/"
        },
        "id": "mxAh5Mmqo8l5",
        "outputId": "70a7df78-278a-4827-c505-3b5c04354e86"
      },
      "execution_count": 85,
      "outputs": [
        {
          "output_type": "stream",
          "name": "stdout",
          "text": [
            "its very cold here .\n",
            "this is my life .\n",
            "\n"
          ]
        }
      ]
    }
  ]
}